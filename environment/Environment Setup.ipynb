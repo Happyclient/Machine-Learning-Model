{
 "cells": [
  {
   "cell_type": "markdown",
   "id": "82ee7178",
   "metadata": {},
   "source": [
    "---\n",
    "## Setup"
   ]
  },
  {
   "cell_type": "markdown",
   "id": "c80aba5e",
   "metadata": {},
   "source": [
    "inputs:"
   ]
  },
  {
   "cell_type": "code",
   "execution_count": 29,
   "id": "03f9ee4d-62f2-473f-b9ea-61212bf9074e",
   "metadata": {},
   "outputs": [
    {
     "data": {
      "text/plain": [
       "'group-24-361920'"
      ]
     },
     "execution_count": 29,
     "metadata": {},
     "output_type": "execute_result"
    }
   ],
   "source": [
    "# setting the project id to PROJECT_ID variable\n",
    "project = !gcloud config get-value project\n",
    "PROJECT_ID = project[0]\n",
    "PROJECT_ID"
   ]
  },
  {
   "cell_type": "code",
   "execution_count": 30,
   "id": "5c342aab",
   "metadata": {},
   "outputs": [],
   "source": [
    "# setting the region where the computing resources of our project are located and the dataname of our dataset\n",
    "REGION = 'us-west1'\n",
    "\n",
    "DATANAME = 'Customer_Complaints'\n"
   ]
  },
  {
   "cell_type": "markdown",
   "id": "632bae5a",
   "metadata": {},
   "source": [
    "packages:"
   ]
  },
  {
   "cell_type": "code",
   "execution_count": 31,
   "id": "6d470506",
   "metadata": {},
   "outputs": [],
   "source": [
    "# importing packages that are going to be used\n",
    "\n",
    "from google.cloud import storage\n",
    "from google.cloud import bigquery\n",
    "\n",
    "import pandas as pd\n",
    "from sklearn import datasets"
   ]
  },
  {
   "cell_type": "markdown",
   "id": "d354569f-5abf-4ba2-a6e0-60de4aad8efe",
   "metadata": {},
   "source": [
    "clients:"
   ]
  },
  {
   "cell_type": "code",
   "execution_count": 32,
   "id": "2a75b04c-3632-4d1f-a4ae-0e80b556de99",
   "metadata": {},
   "outputs": [],
   "source": [
    "# initiating google cloud storage and bigquery clients\n",
    "\n",
    "gcs = storage.Client(project = PROJECT_ID)\n",
    "bq = bigquery.Client(project = PROJECT_ID)"
   ]
  },
  {
   "cell_type": "markdown",
   "id": "9728c71d",
   "metadata": {},
   "source": [
    "parameters:"
   ]
  },
  {
   "cell_type": "code",
   "execution_count": 33,
   "id": "45c5eb21",
   "metadata": {},
   "outputs": [],
   "source": [
    "# setting the name of the storage bucket where our dataset is going to be stored\n",
    "BUCKET = PROJECT_ID + 'storage_bucket'"
   ]
  },
  {
   "cell_type": "markdown",
   "id": "d2ade2ea",
   "metadata": {},
   "source": [
    "---\n",
    "## Creating a Storage Bucket\n",
    "Creating a storage bucket with the BUCKET name"
   ]
  },
  {
   "cell_type": "code",
   "execution_count": 12,
   "id": "baa83e13",
   "metadata": {
    "tags": []
   },
   "outputs": [
    {
     "name": "stdout",
     "output_type": "stream",
     "text": [
      "Created Bucket: group-24-361920storage_bucket\n"
     ]
    }
   ],
   "source": [
    "# if the google cloud storage bucket with the BUCKET name does not exist we create one\n",
    "\n",
    "if not gcs.lookup_bucket(BUCKET):\n",
    "    bucketDef = gcs.bucket(BUCKET)\n",
    "    bucket = gcs.create_bucket(bucketDef, project=PROJECT_ID, location=REGION)\n",
    "    print(f'Created Bucket: {gcs.lookup_bucket(BUCKET).name}')\n",
    "else:\n",
    "    bucketDef = gcs.bucket(BUCKET)\n",
    "    print(f'Bucket already exist: {bucketDef.name}')"
   ]
  },
  {
   "cell_type": "markdown",
   "id": "f9ba62a4",
   "metadata": {},
   "source": [
    "---\n",
    "## Storing our created Dataset into the Storage Bucket\n"
   ]
  },
  {
   "cell_type": "code",
   "execution_count": 28,
   "id": "c04dac4f-721f-4d3a-9798-e375a3891f12",
   "metadata": {},
   "outputs": [],
   "source": [
    "# we added our created dataset to the created google cloud storage bucket"
   ]
  },
  {
   "cell_type": "markdown",
   "id": "24e7bef6",
   "metadata": {},
   "source": [
    "---\n",
    "## Installing KFP\n",
    "We install kubeflow pipelines and google cloud pipeline components that we use to orchestrate pipelines that we use to perform MLOPS "
   ]
  },
  {
   "cell_type": "code",
   "execution_count": 34,
   "id": "7b11a956",
   "metadata": {},
   "outputs": [],
   "source": [
    "!pip install kfp -U -q"
   ]
  },
  {
   "cell_type": "code",
   "execution_count": 35,
   "id": "ba0cdd23",
   "metadata": {},
   "outputs": [],
   "source": [
    "!pip install google-cloud-pipeline-components -U -q"
   ]
  },
  {
   "cell_type": "code",
   "execution_count": 26,
   "id": "6d85b096-bccb-49ca-8638-eddcdba30976",
   "metadata": {},
   "outputs": [],
   "source": [
    "# NOTE:  The errors are dependency compatibility errors that have no any effect and will be resolved"
   ]
  },
  {
   "cell_type": "markdown",
   "id": "56a49f3c",
   "metadata": {},
   "source": [
    "---\n",
    "## Installing plotly"
   ]
  },
  {
   "cell_type": "markdown",
   "id": "b073321d",
   "metadata": {},
   "source": [
    "Plotly is used for visualizatios"
   ]
  },
  {
   "cell_type": "code",
   "execution_count": 37,
   "id": "bb838280",
   "metadata": {
    "tags": []
   },
   "outputs": [],
   "source": [
    "!pip install plotly -q"
   ]
  },
  {
   "cell_type": "markdown",
   "id": "9681525d",
   "metadata": {
    "tags": []
   },
   "source": [
    "---\n",
    "## Updating AIPlatform Package:\n",
    "\n",
    "This helps us always get the latest functionality of the google-cloud-aiplatform package which updates frequently.  "
   ]
  },
  {
   "cell_type": "code",
   "execution_count": 38,
   "id": "28e46217",
   "metadata": {
    "tags": []
   },
   "outputs": [],
   "source": [
    "!pip install googleapis-common-protos -U -q\n",
    "!pip install google-cloud-aiplatform -U -q"
   ]
  }
 ],
 "metadata": {
  "environment": {
   "kernel": "python3",
   "name": "tf2-gpu.2-3.m95",
   "type": "gcloud",
   "uri": "gcr.io/deeplearning-platform-release/tf2-gpu.2-3:m95"
  },
  "kernelspec": {
   "display_name": "Python 3",
   "language": "python",
   "name": "python3"
  },
  "language_info": {
   "codemirror_mode": {
    "name": "ipython",
    "version": 3
   },
   "file_extension": ".py",
   "mimetype": "text/x-python",
   "name": "python",
   "nbconvert_exporter": "python",
   "pygments_lexer": "ipython3",
   "version": "3.7.12"
  }
 },
 "nbformat": 4,
 "nbformat_minor": 5
}

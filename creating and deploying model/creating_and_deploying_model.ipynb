{
 "cells": [
  {
   "cell_type": "markdown",
   "id": "1ad2b88b",
   "metadata": {},
   "source": [
    "#  Training Model with AutoML \n",
    "\n",
    "We train the model using the data in bigquery"
   ]
  },
  {
   "cell_type": "markdown",
   "id": "274e9220",
   "metadata": {},
   "source": [
    "---\n",
    "## Setup"
   ]
  },
  {
   "cell_type": "markdown",
   "id": "f5ecbc2a",
   "metadata": {},
   "source": [
    "inputs:"
   ]
  },
  {
   "cell_type": "code",
   "execution_count": 100,
   "id": "7bf0314c-770c-41fe-be57-f41eb17bf48a",
   "metadata": {},
   "outputs": [
    {
     "data": {
      "text/plain": [
       "'group-24-361920'"
      ]
     },
     "execution_count": 100,
     "metadata": {},
     "output_type": "execute_result"
    }
   ],
   "source": [
    "project = !gcloud config get-value project\n",
    "PROJECT_ID = project[0]\n",
    "PROJECT_ID"
   ]
  },
  {
   "cell_type": "code",
   "execution_count": 101,
   "id": "2c876ea3",
   "metadata": {},
   "outputs": [],
   "source": [
    "REGION = 'us-west1'\n",
    "DATANAME = 'Customer_Complaints'\n",
    "\n",
    "# Server where the model is deployed\n",
    "DEPLOY_COMPUTE = 'n1-standard-4'\n"
   ]
  },
  {
   "cell_type": "markdown",
   "id": "766af32d",
   "metadata": {},
   "source": [
    "packages:"
   ]
  },
  {
   "cell_type": "code",
   "execution_count": 102,
   "id": "37cc8f31",
   "metadata": {},
   "outputs": [],
   "source": [
    "from google.cloud import aiplatform\n",
    "from datetime import datetime\n",
    "\n",
    "from google.cloud import bigquery\n",
    "from google.protobuf import json_format\n",
    "from google.protobuf.struct_pb2 import Value\n",
    "import json\n",
    "import numpy as np"
   ]
  },
  {
   "cell_type": "markdown",
   "id": "8eb5d30a",
   "metadata": {},
   "source": [
    "clients:"
   ]
  },
  {
   "cell_type": "code",
   "execution_count": 103,
   "id": "e6ea1163",
   "metadata": {
    "tags": []
   },
   "outputs": [],
   "source": [
    "aiplatform.init(project=PROJECT_ID, location=REGION)\n",
    "bigquery = bigquery.Client()"
   ]
  },
  {
   "cell_type": "markdown",
   "id": "3bc72990",
   "metadata": {},
   "source": [
    "parameters:"
   ]
  },
  {
   "cell_type": "code",
   "execution_count": 104,
   "id": "0aa6724c",
   "metadata": {},
   "outputs": [],
   "source": [
    "TIMESTAMP = datetime.now().strftime(\"%Y%m%d%H%M%S\")\n",
    "DIR = f\"temp/assets\""
   ]
  },
  {
   "cell_type": "markdown",
   "id": "6e7aa5a4",
   "metadata": {},
   "source": [
    "environment:"
   ]
  },
  {
   "cell_type": "code",
   "execution_count": 105,
   "id": "839f366e",
   "metadata": {},
   "outputs": [],
   "source": [
    "!rm -rf {DIR}\n",
    "!mkdir -p {DIR}"
   ]
  },
  {
   "cell_type": "markdown",
   "id": "d5815579",
   "metadata": {},
   "source": [
    "---\n",
    "## Creating a Dataset that links to the BigQuery table with split data"
   ]
  },
  {
   "cell_type": "code",
   "execution_count": 106,
   "id": "8ef3b1e3",
   "metadata": {},
   "outputs": [
    {
     "name": "stdout",
     "output_type": "stream",
     "text": [
      "Creating TabularDataset\n",
      "Create TabularDataset backing LRO: projects/550877048093/locations/us-west1/datasets/5632314283980226560/operations/7318967320011866112\n",
      "TabularDataset created. Resource name: projects/550877048093/locations/us-west1/datasets/5632314283980226560\n",
      "To use this TabularDataset in another session:\n",
      "ds = aiplatform.TabularDataset('projects/550877048093/locations/us-west1/datasets/5632314283980226560')\n",
      "['contains_sensitive_data', 'has_media', 'fit_for_for_self_help', 'fit_for_forum', 'tier_level', 'response_id', 'response_text', 'ticket_id', 'response_source', 'client_id', 'row_id', 'ticket_source', 'response_created_at', 'ticket_sent_to', 'ticket_created_at', 'ticket_text', 'ticket_type', 'splits', 'int64_field_0', 'first_reply_time_secs']\n"
     ]
    }
   ],
   "source": [
    "Customer_Complaints_dataset = aiplatform.TabularDataset.create(\n",
    "    display_name=f\"Customer_Complaints_{TIMESTAMP}\", bq_source=['bq://group-24-361920.Customer_Complaints.Customer_Complaints_copy'])\n",
    "print(Customer_Complaints_dataset.column_names)"
   ]
  },
  {
   "cell_type": "markdown",
   "id": "46b48275",
   "metadata": {},
   "source": [
    "---\n",
    "## Training Model with AutoML"
   ]
  },
  {
   "cell_type": "code",
   "execution_count": 109,
   "id": "51634455",
   "metadata": {},
   "outputs": [],
   "source": [
    "#columns to use\n",
    "#creating a list of columns used for training the model\n",
    "column_specs = list(set(Customer_Complaints_dataset.column_names) - set(['has_media', 'response_id', 'ticket_id', 'client_id', 'row_id', 'ticket_source', 'response_created_at','response_text', 'ticket_created_at', 'tier_level', 'splits', \n",
    "                                                                         'int64_field_0', 'first_reply_time_secs','contains_sensitive_data','fit_for_for_self_help','fit_for_forum',\n",
    "                                                                        'response_source', 'ticket_sent_to' ]))\n"
   ]
  },
  {
   "cell_type": "code",
   "execution_count": 110,
   "id": "3115cad7",
   "metadata": {},
   "outputs": [
    {
     "name": "stdout",
     "output_type": "stream",
     "text": [
      "{'ticket_text': 'auto', 'ticket_type': 'auto'}\n"
     ]
    }
   ],
   "source": [
    "#creating a dictionary of the columns\n",
    "column_specs = dict.fromkeys(column_specs, 'auto')\n",
    "print(column_specs)"
   ]
  },
  {
   "cell_type": "markdown",
   "id": "da9ce943",
   "metadata": {},
   "source": [
    "### Creating AutoML Job"
   ]
  },
  {
   "cell_type": "code",
   "execution_count": 111,
   "id": "2ada2e66",
   "metadata": {},
   "outputs": [],
   "source": [
    "tabular_classification_job = aiplatform.AutoMLTabularTrainingJob(\n",
    "    display_name = f'CustomerComplaints_AutoML_{TIMESTAMP}',\n",
    "    optimization_prediction_type = 'classification',\n",
    "    column_specs = column_specs,\n",
    ")"
   ]
  },
  {
   "cell_type": "code",
   "execution_count": 112,
   "id": "d3c1a2f4",
   "metadata": {
    "scrolled": true,
    "tags": []
   },
   "outputs": [
    {
     "name": "stdout",
     "output_type": "stream",
     "text": [
      "View Training:\n",
      "https://console.cloud.google.com/ai/platform/locations/us-west1/training/2146330260302462976?project=550877048093\n",
      "AutoMLTabularTrainingJob projects/550877048093/locations/us-west1/trainingPipelines/2146330260302462976 current state:\n",
      "PipelineState.PIPELINE_STATE_RUNNING\n",
      "AutoMLTabularTrainingJob projects/550877048093/locations/us-west1/trainingPipelines/2146330260302462976 current state:\n",
      "PipelineState.PIPELINE_STATE_RUNNING\n",
      "AutoMLTabularTrainingJob projects/550877048093/locations/us-west1/trainingPipelines/2146330260302462976 current state:\n",
      "PipelineState.PIPELINE_STATE_RUNNING\n",
      "AutoMLTabularTrainingJob projects/550877048093/locations/us-west1/trainingPipelines/2146330260302462976 current state:\n",
      "PipelineState.PIPELINE_STATE_RUNNING\n",
      "AutoMLTabularTrainingJob projects/550877048093/locations/us-west1/trainingPipelines/2146330260302462976 current state:\n",
      "PipelineState.PIPELINE_STATE_RUNNING\n",
      "AutoMLTabularTrainingJob projects/550877048093/locations/us-west1/trainingPipelines/2146330260302462976 current state:\n",
      "PipelineState.PIPELINE_STATE_RUNNING\n",
      "AutoMLTabularTrainingJob projects/550877048093/locations/us-west1/trainingPipelines/2146330260302462976 current state:\n",
      "PipelineState.PIPELINE_STATE_RUNNING\n",
      "AutoMLTabularTrainingJob projects/550877048093/locations/us-west1/trainingPipelines/2146330260302462976 current state:\n",
      "PipelineState.PIPELINE_STATE_RUNNING\n",
      "AutoMLTabularTrainingJob projects/550877048093/locations/us-west1/trainingPipelines/2146330260302462976 current state:\n",
      "PipelineState.PIPELINE_STATE_RUNNING\n",
      "AutoMLTabularTrainingJob projects/550877048093/locations/us-west1/trainingPipelines/2146330260302462976 current state:\n",
      "PipelineState.PIPELINE_STATE_RUNNING\n",
      "AutoMLTabularTrainingJob projects/550877048093/locations/us-west1/trainingPipelines/2146330260302462976 current state:\n",
      "PipelineState.PIPELINE_STATE_RUNNING\n",
      "AutoMLTabularTrainingJob projects/550877048093/locations/us-west1/trainingPipelines/2146330260302462976 current state:\n",
      "PipelineState.PIPELINE_STATE_RUNNING\n",
      "AutoMLTabularTrainingJob projects/550877048093/locations/us-west1/trainingPipelines/2146330260302462976 current state:\n",
      "PipelineState.PIPELINE_STATE_RUNNING\n",
      "AutoMLTabularTrainingJob projects/550877048093/locations/us-west1/trainingPipelines/2146330260302462976 current state:\n",
      "PipelineState.PIPELINE_STATE_RUNNING\n",
      "AutoMLTabularTrainingJob projects/550877048093/locations/us-west1/trainingPipelines/2146330260302462976 current state:\n",
      "PipelineState.PIPELINE_STATE_RUNNING\n",
      "AutoMLTabularTrainingJob projects/550877048093/locations/us-west1/trainingPipelines/2146330260302462976 current state:\n",
      "PipelineState.PIPELINE_STATE_RUNNING\n",
      "AutoMLTabularTrainingJob projects/550877048093/locations/us-west1/trainingPipelines/2146330260302462976 current state:\n",
      "PipelineState.PIPELINE_STATE_RUNNING\n",
      "AutoMLTabularTrainingJob projects/550877048093/locations/us-west1/trainingPipelines/2146330260302462976 current state:\n",
      "PipelineState.PIPELINE_STATE_RUNNING\n",
      "AutoMLTabularTrainingJob projects/550877048093/locations/us-west1/trainingPipelines/2146330260302462976 current state:\n",
      "PipelineState.PIPELINE_STATE_RUNNING\n",
      "AutoMLTabularTrainingJob projects/550877048093/locations/us-west1/trainingPipelines/2146330260302462976 current state:\n",
      "PipelineState.PIPELINE_STATE_RUNNING\n",
      "AutoMLTabularTrainingJob projects/550877048093/locations/us-west1/trainingPipelines/2146330260302462976 current state:\n",
      "PipelineState.PIPELINE_STATE_RUNNING\n",
      "AutoMLTabularTrainingJob projects/550877048093/locations/us-west1/trainingPipelines/2146330260302462976 current state:\n",
      "PipelineState.PIPELINE_STATE_RUNNING\n",
      "AutoMLTabularTrainingJob projects/550877048093/locations/us-west1/trainingPipelines/2146330260302462976 current state:\n",
      "PipelineState.PIPELINE_STATE_RUNNING\n",
      "AutoMLTabularTrainingJob projects/550877048093/locations/us-west1/trainingPipelines/2146330260302462976 current state:\n",
      "PipelineState.PIPELINE_STATE_RUNNING\n",
      "AutoMLTabularTrainingJob projects/550877048093/locations/us-west1/trainingPipelines/2146330260302462976 current state:\n",
      "PipelineState.PIPELINE_STATE_RUNNING\n",
      "AutoMLTabularTrainingJob projects/550877048093/locations/us-west1/trainingPipelines/2146330260302462976 current state:\n",
      "PipelineState.PIPELINE_STATE_RUNNING\n",
      "AutoMLTabularTrainingJob projects/550877048093/locations/us-west1/trainingPipelines/2146330260302462976 current state:\n",
      "PipelineState.PIPELINE_STATE_RUNNING\n",
      "AutoMLTabularTrainingJob projects/550877048093/locations/us-west1/trainingPipelines/2146330260302462976 current state:\n",
      "PipelineState.PIPELINE_STATE_RUNNING\n",
      "AutoMLTabularTrainingJob projects/550877048093/locations/us-west1/trainingPipelines/2146330260302462976 current state:\n",
      "PipelineState.PIPELINE_STATE_RUNNING\n",
      "AutoMLTabularTrainingJob run completed. Resource name: projects/550877048093/locations/us-west1/trainingPipelines/2146330260302462976\n",
      "Model available at projects/550877048093/locations/us-west1/models/8106004340243693568\n"
     ]
    }
   ],
   "source": [
    "#running the job\n",
    "model = tabular_classification_job.run(\n",
    "    dataset = Customer_Complaints_dataset,\n",
    "    target_column = 'tier_level',\n",
    "    predefined_split_column_name = 'splits',\n",
    "    budget_milli_node_hours = 1000,\n",
    "    model_display_name = f'CustomerComplaints_Model_{TIMESTAMP}',\n",
    "    disable_early_stopping = False,\n",
    ")"
   ]
  },
  {
   "cell_type": "markdown",
   "id": "0523ffaa-9dfb-41cb-b7b5-6cc6ddae1613",
   "metadata": {
    "tags": []
   },
   "source": [
    "---\n",
    "## Evaluation"
   ]
  },
  {
   "cell_type": "markdown",
   "id": "a106b740-1d3b-43b5-ac3d-311fb298b2bf",
   "metadata": {},
   "source": [
    "Setup a model client for the model create by this notebook:"
   ]
  },
  {
   "cell_type": "code",
   "execution_count": 113,
   "id": "a4f7b61b-ad0f-487b-8dc6-ac8ed12e6afb",
   "metadata": {},
   "outputs": [
    {
     "data": {
      "text/plain": [
       "'projects/550877048093/locations/us-west1/models/8106004340243693568'"
      ]
     },
     "execution_count": 113,
     "metadata": {},
     "output_type": "execute_result"
    }
   ],
   "source": [
    "model.resource_name"
   ]
  },
  {
   "cell_type": "code",
   "execution_count": null,
   "id": "dee3e52d-7c16-4ec2-8955-54a0454b5044",
   "metadata": {},
   "outputs": [],
   "source": [
    "#Show more evluations of the model here."
   ]
  },
  {
   "cell_type": "markdown",
   "id": "3ef3a49d",
   "metadata": {},
   "source": [
    "---\n",
    "## Endpoint and Deployment"
   ]
  },
  {
   "cell_type": "code",
   "execution_count": 114,
   "id": "f2e1d5e5",
   "metadata": {},
   "outputs": [
    {
     "name": "stdout",
     "output_type": "stream",
     "text": [
      "Creating Endpoint\n",
      "Create Endpoint backing LRO: projects/550877048093/locations/us-west1/endpoints/248559996621553664/operations/5001865311729745920\n",
      "Endpoint created. Resource name: projects/550877048093/locations/us-west1/endpoints/248559996621553664\n",
      "To use this Endpoint in another session:\n",
      "endpoint = aiplatform.Endpoint('projects/550877048093/locations/us-west1/endpoints/248559996621553664')\n"
     ]
    }
   ],
   "source": [
    "#creating an endpoint\n",
    "endpoint = aiplatform.Endpoint.create(\n",
    "    display_name = f'CustomerComplaints_endpoint_{TIMESTAMP}',\n",
    ")"
   ]
  },
  {
   "cell_type": "code",
   "execution_count": 115,
   "id": "7300dff3",
   "metadata": {},
   "outputs": [
    {
     "name": "stdout",
     "output_type": "stream",
     "text": [
      "Deploying Model projects/550877048093/locations/us-west1/models/8106004340243693568 to Endpoint : projects/550877048093/locations/us-west1/endpoints/248559996621553664\n",
      "Deploy Endpoint model backing LRO: projects/550877048093/locations/us-west1/endpoints/248559996621553664/operations/6159290415963963392\n",
      "Endpoint model deployed. Resource name: projects/550877048093/locations/us-west1/endpoints/248559996621553664\n"
     ]
    }
   ],
   "source": [
    "#deploying the model to the created endpoint, we are routing 100% of the traffic to this endpoint \n",
    "endpoint.deploy(\n",
    "    model = model,\n",
    "    deployed_model_display_name = f'CustomerComplaints_model_{TIMESTAMP}',\n",
    "    traffic_percentage = 100,\n",
    "    machine_type = DEPLOY_COMPUTE,\n",
    "    min_replica_count = 1,\n",
    "    max_replica_count = 1\n",
    ")"
   ]
  },
  {
   "cell_type": "markdown",
   "id": "a15d96ee",
   "metadata": {},
   "source": [
    "---\n",
    "## Making Predictions from the deployed model"
   ]
  },
  {
   "cell_type": "markdown",
   "id": "13e324b8",
   "metadata": {},
   "source": [
    "We get some columns for testing from the dataset, these columns were not involved in training"
   ]
  },
  {
   "cell_type": "code",
   "execution_count": 62,
   "id": "7148bd5b",
   "metadata": {},
   "outputs": [],
   "source": [
    "sql = \"\"\"\n",
    "    SELECT *\n",
    "    FROM `group-24-361920.Customer_Complaints.Customer_Complaints_copy`\n",
    "    WHERE splits ='TEST'\n",
    "    LIMIT 10\n",
    "    ;\n",
    "\"\"\"\n",
    "\n",
    "testingData = bigquery.query(query = sql).to_dataframe()"
   ]
  },
  {
   "cell_type": "code",
   "execution_count": 116,
   "id": "9055ac97",
   "metadata": {
    "tags": []
   },
   "outputs": [
    {
     "data": {
      "text/html": [
       "<div>\n",
       "<style scoped>\n",
       "    .dataframe tbody tr th:only-of-type {\n",
       "        vertical-align: middle;\n",
       "    }\n",
       "\n",
       "    .dataframe tbody tr th {\n",
       "        vertical-align: top;\n",
       "    }\n",
       "\n",
       "    .dataframe thead th {\n",
       "        text-align: right;\n",
       "    }\n",
       "</style>\n",
       "<table border=\"1\" class=\"dataframe\">\n",
       "  <thead>\n",
       "    <tr style=\"text-align: right;\">\n",
       "      <th></th>\n",
       "      <th>int64_field_0</th>\n",
       "      <th>client_id</th>\n",
       "      <th>ticket_id</th>\n",
       "      <th>ticket_sent_to</th>\n",
       "      <th>ticket_type</th>\n",
       "      <th>fit_for_forum</th>\n",
       "      <th>fit_for_for_self_help</th>\n",
       "      <th>tier_level</th>\n",
       "      <th>contains_sensitive_data</th>\n",
       "      <th>ticket_text</th>\n",
       "      <th>has_media</th>\n",
       "      <th>ticket_source</th>\n",
       "      <th>ticket_created_at</th>\n",
       "      <th>first_reply_time_secs</th>\n",
       "      <th>response_id</th>\n",
       "      <th>response_text</th>\n",
       "      <th>response_source</th>\n",
       "      <th>response_created_at</th>\n",
       "      <th>row_id</th>\n",
       "      <th>splits</th>\n",
       "    </tr>\n",
       "  </thead>\n",
       "  <tbody>\n",
       "    <tr>\n",
       "      <th>0</th>\n",
       "      <td>232</td>\n",
       "      <td>224961061</td>\n",
       "      <td>1567776119495053312</td>\n",
       "      <td>MTN</td>\n",
       "      <td>Problem Ticket</td>\n",
       "      <td>False</td>\n",
       "      <td>False</td>\n",
       "      <td>TIER-1</td>\n",
       "      <td>False</td>\n",
       "      <td>@mtnug what’s happening?, can’t access my MoKa...</td>\n",
       "      <td>False</td>\n",
       "      <td>Twitter for iPhone</td>\n",
       "      <td>0022-09-08 07:25:00+00:00</td>\n",
       "      <td>551.000000</td>\n",
       "      <td>1567778431462408192</td>\n",
       "      <td>@alvinagume that is unfortunate. DM your numbe...</td>\n",
       "      <td>Khoros CX</td>\n",
       "      <td>9/8/22 7:34 AM</td>\n",
       "      <td>8f172c25-847e-4f95-9d38-56fbf5715e3b</td>\n",
       "      <td>TEST</td>\n",
       "    </tr>\n",
       "    <tr>\n",
       "      <th>1</th>\n",
       "      <td>241</td>\n",
       "      <td>1481163747737710596</td>\n",
       "      <td>1564503612390268928</td>\n",
       "      <td>MTN</td>\n",
       "      <td>Problem Ticket</td>\n",
       "      <td>True</td>\n",
       "      <td>False</td>\n",
       "      <td>TIER-4</td>\n",
       "      <td>True</td>\n",
       "      <td>@mtnug hello yesterday i tried to pay mkopa ac...</td>\n",
       "      <td>True</td>\n",
       "      <td>Twitter for Android</td>\n",
       "      <td>0022-08-30 06:41:00+00:00</td>\n",
       "      <td>112.999999</td>\n",
       "      <td>1564504086208253952</td>\n",
       "      <td>@UrbanMatsiko Hi Urban, sorry about that. This...</td>\n",
       "      <td>Khoros CX</td>\n",
       "      <td>8/30/22 6:43 AM</td>\n",
       "      <td>41bb9f29-2c4d-480a-9397-16027e59cf1d</td>\n",
       "      <td>TEST</td>\n",
       "    </tr>\n",
       "    <tr>\n",
       "      <th>2</th>\n",
       "      <td>85</td>\n",
       "      <td>910999925248454656</td>\n",
       "      <td>1569656156855091200</td>\n",
       "      <td>MTN</td>\n",
       "      <td>Problem Ticket</td>\n",
       "      <td>True</td>\n",
       "      <td>True</td>\n",
       "      <td>TIER-1</td>\n",
       "      <td>False</td>\n",
       "      <td>@mtnug @mtnmomoug My number is not roaming in ...</td>\n",
       "      <td>False</td>\n",
       "      <td>Twitter for Android</td>\n",
       "      <td>0022-09-13 11:56:00+00:00</td>\n",
       "      <td>98.000000</td>\n",
       "      <td>1569656570002153472</td>\n",
       "      <td>@EcoHubAfrica apologies. Please connect to AT&amp;...</td>\n",
       "      <td>Khoros CX</td>\n",
       "      <td>9/13/22 11:57 AM</td>\n",
       "      <td>52b5726f-8cd3-403b-8963-2a879c004b38</td>\n",
       "      <td>TEST</td>\n",
       "    </tr>\n",
       "    <tr>\n",
       "      <th>3</th>\n",
       "      <td>183</td>\n",
       "      <td>2559814557</td>\n",
       "      <td>1568362569093505024</td>\n",
       "      <td>MTN</td>\n",
       "      <td>Problem Ticket</td>\n",
       "      <td>False</td>\n",
       "      <td>False</td>\n",
       "      <td>TIER-2</td>\n",
       "      <td>False</td>\n",
       "      <td>@mtnug is mobile money down right now?? I can'...</td>\n",
       "      <td>True</td>\n",
       "      <td>Twitter for Android</td>\n",
       "      <td>0022-09-09 22:15:00+00:00</td>\n",
       "      <td>98.000000</td>\n",
       "      <td>1568362977119838209</td>\n",
       "      <td>@Fenatos Hello SAMU, Our apologies for inconve...</td>\n",
       "      <td>Khoros CX</td>\n",
       "      <td>9/9/22 10:17 PM</td>\n",
       "      <td>0edd82b4-300f-4af3-986f-8f1246c623d5</td>\n",
       "      <td>TEST</td>\n",
       "    </tr>\n",
       "  </tbody>\n",
       "</table>\n",
       "</div>"
      ],
      "text/plain": [
       "   int64_field_0            client_id            ticket_id ticket_sent_to  \\\n",
       "0            232            224961061  1567776119495053312            MTN   \n",
       "1            241  1481163747737710596  1564503612390268928            MTN   \n",
       "2             85   910999925248454656  1569656156855091200            MTN   \n",
       "3            183           2559814557  1568362569093505024            MTN   \n",
       "\n",
       "      ticket_type  fit_for_forum  fit_for_for_self_help tier_level  \\\n",
       "0  Problem Ticket          False                  False     TIER-1   \n",
       "1  Problem Ticket           True                  False     TIER-4   \n",
       "2  Problem Ticket           True                   True     TIER-1   \n",
       "3  Problem Ticket          False                  False     TIER-2   \n",
       "\n",
       "   contains_sensitive_data                                        ticket_text  \\\n",
       "0                    False  @mtnug what’s happening?, can’t access my MoKa...   \n",
       "1                     True  @mtnug hello yesterday i tried to pay mkopa ac...   \n",
       "2                    False  @mtnug @mtnmomoug My number is not roaming in ...   \n",
       "3                    False  @mtnug is mobile money down right now?? I can'...   \n",
       "\n",
       "   has_media        ticket_source          ticket_created_at  \\\n",
       "0      False   Twitter for iPhone  0022-09-08 07:25:00+00:00   \n",
       "1       True  Twitter for Android  0022-08-30 06:41:00+00:00   \n",
       "2      False  Twitter for Android  0022-09-13 11:56:00+00:00   \n",
       "3       True  Twitter for Android  0022-09-09 22:15:00+00:00   \n",
       "\n",
       "   first_reply_time_secs          response_id  \\\n",
       "0             551.000000  1567778431462408192   \n",
       "1             112.999999  1564504086208253952   \n",
       "2              98.000000  1569656570002153472   \n",
       "3              98.000000  1568362977119838209   \n",
       "\n",
       "                                       response_text response_source  \\\n",
       "0  @alvinagume that is unfortunate. DM your numbe...       Khoros CX   \n",
       "1  @UrbanMatsiko Hi Urban, sorry about that. This...       Khoros CX   \n",
       "2  @EcoHubAfrica apologies. Please connect to AT&...       Khoros CX   \n",
       "3  @Fenatos Hello SAMU, Our apologies for inconve...       Khoros CX   \n",
       "\n",
       "  response_created_at                                row_id splits  \n",
       "0      9/8/22 7:34 AM  8f172c25-847e-4f95-9d38-56fbf5715e3b   TEST  \n",
       "1     8/30/22 6:43 AM  41bb9f29-2c4d-480a-9397-16027e59cf1d   TEST  \n",
       "2    9/13/22 11:57 AM  52b5726f-8cd3-403b-8963-2a879c004b38   TEST  \n",
       "3     9/9/22 10:17 PM  0edd82b4-300f-4af3-986f-8f1246c623d5   TEST  "
      ]
     },
     "execution_count": 116,
     "metadata": {},
     "output_type": "execute_result"
    }
   ],
   "source": [
    "testingData.head(4)"
   ]
  },
  {
   "cell_type": "code",
   "execution_count": 123,
   "id": "f2f80ac2",
   "metadata": {
    "tags": []
   },
   "outputs": [],
   "source": [
    "#getting the first column of the testing data\n",
    "first_row=testingData.iloc[0].to_dict()"
   ]
  },
  {
   "cell_type": "code",
   "execution_count": 124,
   "id": "b4bbe99b-7d2e-4067-a542-bcd7d86ebbc9",
   "metadata": {},
   "outputs": [
    {
     "name": "stdout",
     "output_type": "stream",
     "text": [
      "These are the parameters that we provide to the model to make a preiction\n"
     ]
    },
    {
     "data": {
      "text/plain": [
       "{'ticket_type': 'Problem Ticket',\n",
       " 'ticket_text': '@mtnug what’s happening?, can’t access my MoKash savings….'}"
      ]
     },
     "execution_count": 124,
     "metadata": {},
     "output_type": "execute_result"
    }
   ],
   "source": [
    "#removing columns that were not involved in training and the target column\n",
    "\n",
    "first_row.pop('splits')\n",
    "first_row.pop('has_media')\n",
    "first_row.pop('response_id')\n",
    "first_row.pop('client_id')\n",
    "first_row.pop('row_id')\n",
    "first_row.pop('ticket_source')\n",
    "first_row.pop('response_created_at')\n",
    "first_row.pop('ticket_created_at')\n",
    "first_row.pop('tier_level')\n",
    "first_row.pop('int64_field_0')\n",
    "first_row.pop('first_reply_time_secs')\n",
    "first_row.pop('ticket_sent_to')\n",
    "first_row.pop('fit_for_forum')\n",
    "first_row.pop( 'contains_sensitive_data')\n",
    "first_row.pop('response_text')\n",
    "first_row.pop( 'response_source')\n",
    "first_row.pop( 'ticket_id')\n",
    "first_row.pop( 'fit_for_for_self_help')\n",
    "\n",
    "print('These are the parameters that we provide to the model to make a preiction')\n",
    "first_row\n"
   ]
  },
  {
   "cell_type": "code",
   "execution_count": 125,
   "id": "44a386d9",
   "metadata": {},
   "outputs": [
    {
     "data": {
      "text/plain": [
       "[struct_value {\n",
       "   fields {\n",
       "     key: \"ticket_text\"\n",
       "     value {\n",
       "       string_value: \"@mtnug what\\342\\200\\231s happening?, can\\342\\200\\231t access my MoKash savings\\342\\200\\246.\"\n",
       "     }\n",
       "   }\n",
       "   fields {\n",
       "     key: \"ticket_type\"\n",
       "     value {\n",
       "       string_value: \"Problem Ticket\"\n",
       "     }\n",
       "   }\n",
       " }]"
      ]
     },
     "execution_count": 125,
     "metadata": {},
     "output_type": "execute_result"
    }
   ],
   "source": [
    "#changing the parameters into json format\n",
    "instances = [json_format.ParseDict(first_row, Value())]\n",
    "instances "
   ]
  },
  {
   "cell_type": "markdown",
   "id": "6fa715ce",
   "metadata": {
    "tags": []
   },
   "source": [
    "### Getting Predictions Using the Python Client"
   ]
  },
  {
   "cell_type": "code",
   "execution_count": 126,
   "id": "b6f11350",
   "metadata": {},
   "outputs": [],
   "source": [
    "prediction = endpoint.predict(instances=instances)"
   ]
  },
  {
   "cell_type": "code",
   "execution_count": 127,
   "id": "063eba38",
   "metadata": {},
   "outputs": [
    {
     "data": {
      "text/plain": [
       "Prediction(predictions=[{'classes': ['TIER-1', 'TIER-0', 'TIER-2', 'TIER-3', 'TIER-4'], 'scores': [0.664622962474823, 0.2379840165376663, 0.08295109122991562, 0.01235676556825638, 0.002085175830870867]}], deployed_model_id='5575825774591606784', model_version_id='1', model_resource_name='projects/550877048093/locations/us-west1/models/8106004340243693568', explanations=None)"
      ]
     },
     "execution_count": 127,
     "metadata": {},
     "output_type": "execute_result"
    }
   ],
   "source": [
    "prediction"
   ]
  },
  {
   "cell_type": "code",
   "execution_count": 128,
   "id": "30a5f2c7",
   "metadata": {},
   "outputs": [
    {
     "data": {
      "text/plain": [
       "'TIER-1'"
      ]
     },
     "execution_count": 128,
     "metadata": {},
     "output_type": "execute_result"
    }
   ],
   "source": [
    "prediction.predictions[0]['classes'][np.argmax(prediction.predictions[0])]"
   ]
  },
  {
   "cell_type": "markdown",
   "id": "aa2dbae2",
   "metadata": {},
   "source": [
    "---\n",
    "## Explanations\n"
   ]
  },
  {
   "cell_type": "code",
   "execution_count": 129,
   "id": "b44aedf4",
   "metadata": {},
   "outputs": [],
   "source": [
    "explanation = endpoint.explain(instances=instances)"
   ]
  },
  {
   "cell_type": "code",
   "execution_count": 130,
   "id": "d64bcf23",
   "metadata": {},
   "outputs": [
    {
     "data": {
      "text/plain": [
       "[{'classes': ['TIER-1', 'TIER-0', 'TIER-2', 'TIER-3', 'TIER-4'],\n",
       "  'scores': [0.664622962474823,\n",
       "   0.2379840165376663,\n",
       "   0.08295109122991562,\n",
       "   0.01235676556825638,\n",
       "   0.002085175830870867]}]"
      ]
     },
     "execution_count": 130,
     "metadata": {},
     "output_type": "execute_result"
    }
   ],
   "source": [
    "explanation.predictions"
   ]
  },
  {
   "cell_type": "markdown",
   "id": "b9f32e15-eb42-42bd-83d0-161ea8874e7f",
   "metadata": {},
   "source": [
    "From the above explaination, The model identifies the ticket as a TIER-1 ticket because TIER-1\n",
    "has the highest score."
   ]
  }
 ],
 "metadata": {
  "environment": {
   "kernel": "python3",
   "name": "tf2-gpu.2-3.m95",
   "type": "gcloud",
   "uri": "gcr.io/deeplearning-platform-release/tf2-gpu.2-3:m95"
  },
  "kernelspec": {
   "display_name": "Python 3",
   "language": "python",
   "name": "python3"
  },
  "language_info": {
   "codemirror_mode": {
    "name": "ipython",
    "version": 3
   },
   "file_extension": ".py",
   "mimetype": "text/x-python",
   "name": "python",
   "nbconvert_exporter": "python",
   "pygments_lexer": "ipython3",
   "version": "3.7.12"
  }
 },
 "nbformat": 4,
 "nbformat_minor": 5
}

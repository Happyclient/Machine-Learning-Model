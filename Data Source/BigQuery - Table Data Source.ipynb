{
 "cells": [
  {
   "cell_type": "markdown",
   "id": "c28f7fa2",
   "metadata": {},
   "source": [
    "# Creating a Table Data Source\n",
    "We use BigQuery to load and prepare data for machine learning\n"
   ]
  },
  {
   "cell_type": "markdown",
   "id": "a5046940",
   "metadata": {},
   "source": [
    "---\n",
    "## Setup"
   ]
  },
  {
   "cell_type": "markdown",
   "id": "a0ae60b2",
   "metadata": {},
   "source": [
    "inputs:"
   ]
  },
  {
   "cell_type": "code",
   "execution_count": 96,
   "id": "d6f0503a-e864-4170-ade9-0ebabd14efcd",
   "metadata": {
    "tags": []
   },
   "outputs": [
    {
     "data": {
      "text/plain": [
       "'group-24-361920'"
      ]
     },
     "execution_count": 96,
     "metadata": {},
     "output_type": "execute_result"
    }
   ],
   "source": [
    "project = !gcloud config get-value project\n",
    "PROJECT_ID = project[0]\n",
    "PROJECT_ID"
   ]
  },
  {
   "cell_type": "code",
   "execution_count": 97,
   "id": "56a5bc43",
   "metadata": {},
   "outputs": [],
   "source": [
    "REGION = 'us-west1'\n",
    "EXPERIMENT = 'final_year_project_group24'\n",
    "\n",
    "# source data\n",
    "BQ_PROJECT = PROJECT_ID\n",
    "BQ_DATASET = 'Customer_Complaints'\n",
    "BQ_TABLE = 'Customer_Complaints'"
   ]
  },
  {
   "cell_type": "markdown",
   "id": "e4a963be",
   "metadata": {},
   "source": [
    "packages:\n",
    "\n",
    "importing bigquery"
   ]
  },
  {
   "cell_type": "code",
   "execution_count": 98,
   "id": "8a37b83a",
   "metadata": {},
   "outputs": [],
   "source": [
    "from google.cloud import bigquery"
   ]
  },
  {
   "cell_type": "markdown",
   "id": "e24cebb6",
   "metadata": {},
   "source": [
    "clients:\n",
    "\n",
    "creating a big query client for our project"
   ]
  },
  {
   "cell_type": "code",
   "execution_count": 99,
   "id": "9e515410",
   "metadata": {},
   "outputs": [],
   "source": [
    "bq = bigquery.Client(project = PROJECT_ID)"
   ]
  },
  {
   "cell_type": "markdown",
   "id": "a6601398",
   "metadata": {},
   "source": [
    "parameters:"
   ]
  },
  {
   "cell_type": "code",
   "execution_count": 100,
   "id": "1f1e2af3",
   "metadata": {
    "tags": []
   },
   "outputs": [],
   "source": [
    "BUCKET = PROJECT_ID + 'storage_bucket'"
   ]
  },
  {
   "cell_type": "markdown",
   "id": "7685eddc",
   "metadata": {},
   "source": [
    "---\n",
    "## Creating Dataset in BigQuery"
   ]
  },
  {
   "cell_type": "markdown",
   "id": "3b0b3aca",
   "metadata": {},
   "source": [
    "Creating a dataset called Customer_Complaints in BigQuery"
   ]
  },
  {
   "cell_type": "code",
   "execution_count": 101,
   "id": "61001b78-418f-42a1-a4c4-d74a1f3aff9e",
   "metadata": {},
   "outputs": [],
   "source": [
    "ds = bigquery.Dataset(f\"{BQ_PROJECT}.{BQ_DATASET}\")\n",
    "ds.location = REGION\n",
    "ds.labels = {'experiment': f'{EXPERIMENT}'}\n",
    "ds = bq.create_dataset(dataset = ds, exists_ok = True)"
   ]
  },
  {
   "cell_type": "markdown",
   "id": "11a50638-515e-49d0-b479-25e92138ae96",
   "metadata": {},
   "source": [
    "Showing that the dataset exists"
   ]
  },
  {
   "cell_type": "code",
   "execution_count": 102,
   "id": "b39f4471-38f4-4b97-8d9c-7ee3122dbee9",
   "metadata": {},
   "outputs": [
    {
     "name": "stdout",
     "output_type": "stream",
     "text": [
      "Customer_Complaints\n"
     ]
    }
   ],
   "source": [
    "datasets = list(bq.list_datasets())\n",
    "for d in datasets:\n",
    "    print(d.dataset_id)"
   ]
  },
  {
   "cell_type": "markdown",
   "id": "34eeac68",
   "metadata": {},
   "source": [
    "---\n",
    "## Creating a Table in BigQuery\n",
    "- We create a table asset in the BigQuery and populate it with the data from our dataset that we stored in the Cloud Storage Bucket\n"
   ]
  },
  {
   "cell_type": "code",
   "execution_count": 105,
   "id": "86063a1e",
   "metadata": {
    "tags": []
   },
   "outputs": [
    {
     "name": "stdout",
     "output_type": "stream",
     "text": [
      "Creating Table ...\n",
      "Finished creating table: group-24-361920.Customer_Complaints.Customer_Complaints\n"
     ]
    }
   ],
   "source": [
    "\n",
    "# if the table does not exist we create it and populate it with data from our dataset\n",
    "\n",
    "from google.cloud.exceptions import NotFound\n",
    "try:\n",
    "    table = bq.get_table(f'{BQ_PROJECT}.{BQ_DATASET}.{BQ_TABLE}')\n",
    "    if table:\n",
    "        print(f'The table already exists: {BQ_PROJECT}.{BQ_DATASET}.{BQ_TABLE}')\n",
    "except NotFound as error:\n",
    "    print(f'Creating Table ...')\n",
    "    destination = bigquery.TableReference.from_string(f\"{BQ_PROJECT}.{BQ_DATASET}.{BQ_TABLE}\")\n",
    "    job_config = bigquery.LoadJobConfig(\n",
    "        write_disposition = 'WRITE_TRUNCATE',\n",
    "        source_format = bigquery.SourceFormat.CSV,\n",
    "        autodetect = True,\n",
    "        allow_quoted_newlines = True,\n",
    "        labels = {'experiment': f'{EXPERIMENT}'}\n",
    "    )\n",
    "    job = bq.load_table_from_uri(f\"gs://group-24-361920storage_bucket/Customer_Complaints/dataset/Cusotmer_Complaints.csv\", destination, job_config = job_config)\n",
    "    job.result()\n",
    "    print(f'Finished creating table: {BQ_PROJECT}.{BQ_DATASET}.{BQ_TABLE}')"
   ]
  },
  {
   "cell_type": "code",
   "execution_count": 106,
   "id": "11924cf8-a040-4ee5-85ae-788cba106b56",
   "metadata": {},
   "outputs": [
    {
     "data": {
      "text/html": [
       "<div>\n",
       "<style scoped>\n",
       "    .dataframe tbody tr th:only-of-type {\n",
       "        vertical-align: middle;\n",
       "    }\n",
       "\n",
       "    .dataframe tbody tr th {\n",
       "        vertical-align: top;\n",
       "    }\n",
       "\n",
       "    .dataframe thead th {\n",
       "        text-align: right;\n",
       "    }\n",
       "</style>\n",
       "<table border=\"1\" class=\"dataframe\">\n",
       "  <thead>\n",
       "    <tr style=\"text-align: right;\">\n",
       "      <th></th>\n",
       "      <th>int64_field_0</th>\n",
       "      <th>client_id</th>\n",
       "      <th>ticket_id</th>\n",
       "      <th>ticket_sent_to</th>\n",
       "      <th>ticket_type</th>\n",
       "      <th>fit_for_forum</th>\n",
       "      <th>fit_for_for_self_help</th>\n",
       "      <th>tier_level</th>\n",
       "      <th>contains_sensitive_data</th>\n",
       "      <th>ticket_text</th>\n",
       "      <th>has_media</th>\n",
       "      <th>ticket_source</th>\n",
       "      <th>ticket_created_at</th>\n",
       "      <th>first_reply_time_secs</th>\n",
       "      <th>response_id</th>\n",
       "      <th>response_text</th>\n",
       "      <th>response_source</th>\n",
       "      <th>response_created_at</th>\n",
       "    </tr>\n",
       "  </thead>\n",
       "  <tbody>\n",
       "    <tr>\n",
       "      <th>0</th>\n",
       "      <td>33</td>\n",
       "      <td>1089318683242049536</td>\n",
       "      <td>1570173909982646276</td>\n",
       "      <td>MTN</td>\n",
       "      <td>Problem Ticket</td>\n",
       "      <td>False</td>\n",
       "      <td>False</td>\n",
       "      <td>TIER-0</td>\n",
       "      <td>False</td>\n",
       "      <td>@mtnug what is wrong with your data? This is n...</td>\n",
       "      <td>False</td>\n",
       "      <td>Twitter for iPhone</td>\n",
       "      <td>0022-09-14 22:13:00+00:00</td>\n",
       "      <td>267.000000</td>\n",
       "      <td>1570175030025416705</td>\n",
       "      <td>@AkechSonia please DM number and exact challen...</td>\n",
       "      <td>Khoros CX</td>\n",
       "      <td>9/14/22 10:17 PM</td>\n",
       "    </tr>\n",
       "    <tr>\n",
       "      <th>1</th>\n",
       "      <td>42</td>\n",
       "      <td>1107916375023079426</td>\n",
       "      <td>1570089690052567054</td>\n",
       "      <td>MTN</td>\n",
       "      <td>Problem Ticket</td>\n",
       "      <td>False</td>\n",
       "      <td>False</td>\n",
       "      <td>TIER-0</td>\n",
       "      <td>False</td>\n",
       "      <td>@mtnug I bought it yesterday but till now I ha...</td>\n",
       "      <td>False</td>\n",
       "      <td>Twitter for Android</td>\n",
       "      <td>0022-09-14 16:38:00+00:00</td>\n",
       "      <td>337.000000</td>\n",
       "      <td>1570091104455872517</td>\n",
       "      <td>@kDavidTito Hello David, apologies, this has b...</td>\n",
       "      <td>Khoros CX</td>\n",
       "      <td>9/14/22 4:44 PM</td>\n",
       "    </tr>\n",
       "    <tr>\n",
       "      <th>2</th>\n",
       "      <td>66</td>\n",
       "      <td>748095549706997760</td>\n",
       "      <td>1569938088180289536</td>\n",
       "      <td>MTN</td>\n",
       "      <td>Problem Ticket</td>\n",
       "      <td>False</td>\n",
       "      <td>True</td>\n",
       "      <td>TIER-0</td>\n",
       "      <td>False</td>\n",
       "      <td>@mtnug How possible is it that my 2.9GB to be ...</td>\n",
       "      <td>False</td>\n",
       "      <td>Twitter Web App</td>\n",
       "      <td>0022-09-14 06:36:00+00:00</td>\n",
       "      <td>527.000000</td>\n",
       "      <td>1569940298360393729</td>\n",
       "      <td>@mraycho_n Hello Racheal, sorry about that. Pl...</td>\n",
       "      <td>Khoros CX</td>\n",
       "      <td>9/14/22 6:45 AM</td>\n",
       "    </tr>\n",
       "    <tr>\n",
       "      <th>3</th>\n",
       "      <td>91</td>\n",
       "      <td>1403948459938484229</td>\n",
       "      <td>1569598944690454529</td>\n",
       "      <td>MTN</td>\n",
       "      <td>Problem Ticket</td>\n",
       "      <td>False</td>\n",
       "      <td>False</td>\n",
       "      <td>TIER-0</td>\n",
       "      <td>False</td>\n",
       "      <td>@mtnug the rate at which my data is moving yes...</td>\n",
       "      <td>False</td>\n",
       "      <td>Twitter for Android</td>\n",
       "      <td>0022-09-13 08:08:00+00:00</td>\n",
       "      <td>230.000000</td>\n",
       "      <td>1569599906393751553</td>\n",
       "      <td>@NsimentaIsaac Hi Isaac, we'd love to look int...</td>\n",
       "      <td>Khoros CX</td>\n",
       "      <td>9/13/22 8:12 AM</td>\n",
       "    </tr>\n",
       "    <tr>\n",
       "      <th>4</th>\n",
       "      <td>170</td>\n",
       "      <td>1476158874507960325</td>\n",
       "      <td>1568451701098553344</td>\n",
       "      <td>MTN</td>\n",
       "      <td>Problem Ticket</td>\n",
       "      <td>False</td>\n",
       "      <td>False</td>\n",
       "      <td>TIER-0</td>\n",
       "      <td>False</td>\n",
       "      <td>Why is MTN extra time data too slow on Twitter...</td>\n",
       "      <td>False</td>\n",
       "      <td>Twitter for Android</td>\n",
       "      <td>0022-09-10 04:10:00+00:00</td>\n",
       "      <td>5457.000000</td>\n",
       "      <td>1568474590917148672</td>\n",
       "      <td>@DariusJackony @mtnug Y’ello! Thanks for stopp...</td>\n",
       "      <td>RC Engage Digital EU</td>\n",
       "      <td>9/10/22 5:40 AM</td>\n",
       "    </tr>\n",
       "    <tr>\n",
       "      <th>5</th>\n",
       "      <td>252</td>\n",
       "      <td>1174660738390069248</td>\n",
       "      <td>1567566766879948801</td>\n",
       "      <td>MTN</td>\n",
       "      <td>Problem Ticket</td>\n",
       "      <td>False</td>\n",
       "      <td>False</td>\n",
       "      <td>TIER-0</td>\n",
       "      <td>False</td>\n",
       "      <td>@mtnug your coverage is too reliable for your ...</td>\n",
       "      <td>False</td>\n",
       "      <td>Twitter for iPhone</td>\n",
       "      <td>0022-09-07 17:33:00+00:00</td>\n",
       "      <td>879.000001</td>\n",
       "      <td>1567570451701944320</td>\n",
       "      <td>@Prnz_sbk Hello, aplogies, Kindly DM your numb...</td>\n",
       "      <td>Khoros CX</td>\n",
       "      <td>9/7/22 5:48 PM</td>\n",
       "    </tr>\n",
       "    <tr>\n",
       "      <th>6</th>\n",
       "      <td>303</td>\n",
       "      <td>2985946385</td>\n",
       "      <td>1566822249201541121</td>\n",
       "      <td>MTN</td>\n",
       "      <td>Problem Ticket</td>\n",
       "      <td>False</td>\n",
       "      <td>False</td>\n",
       "      <td>TIER-0</td>\n",
       "      <td>False</td>\n",
       "      <td>I have tried all means to replace my Simcards ...</td>\n",
       "      <td>False</td>\n",
       "      <td>Twitter for iPhone</td>\n",
       "      <td>0022-09-05 16:15:00+00:00</td>\n",
       "      <td>636.000000</td>\n",
       "      <td>1566824917512888322</td>\n",
       "      <td>@GadhafiShafik Hello Gadhafi, Kindly  DM your ...</td>\n",
       "      <td>Khoros CX</td>\n",
       "      <td>9/5/22 4:25 PM</td>\n",
       "    </tr>\n",
       "    <tr>\n",
       "      <th>7</th>\n",
       "      <td>313</td>\n",
       "      <td>1528391554741817345</td>\n",
       "      <td>1565776425478721536</td>\n",
       "      <td>MTN</td>\n",
       "      <td>Problem Ticket</td>\n",
       "      <td>True</td>\n",
       "      <td>False</td>\n",
       "      <td>TIER-0</td>\n",
       "      <td>False</td>\n",
       "      <td>@mtnug my MTN agent line has failed to work, i...</td>\n",
       "      <td>False</td>\n",
       "      <td>Twitter for Android</td>\n",
       "      <td>0022-09-02 18:59:00+00:00</td>\n",
       "      <td>693.000000</td>\n",
       "      <td>1565779333632892929</td>\n",
       "      <td>@Johnkamwada256 Hello John, kindly DM your num...</td>\n",
       "      <td>Khoros CX</td>\n",
       "      <td>9/2/22 7:10 PM</td>\n",
       "    </tr>\n",
       "    <tr>\n",
       "      <th>8</th>\n",
       "      <td>341</td>\n",
       "      <td>1487340852812959748</td>\n",
       "      <td>1566357451506696192</td>\n",
       "      <td>MTN</td>\n",
       "      <td>Problem Ticket</td>\n",
       "      <td>False</td>\n",
       "      <td>False</td>\n",
       "      <td>TIER-0</td>\n",
       "      <td>False</td>\n",
       "      <td>@mtnug should change on how it's consumes our ...</td>\n",
       "      <td>False</td>\n",
       "      <td>Twitter for Android</td>\n",
       "      <td>0022-09-04 09:28:00+00:00</td>\n",
       "      <td>847.000001</td>\n",
       "      <td>1566361004514099201</td>\n",
       "      <td>@damas_muhumuza please DM your number, name, b...</td>\n",
       "      <td>Khoros CX</td>\n",
       "      <td>9/4/22 9:42 AM</td>\n",
       "    </tr>\n",
       "    <tr>\n",
       "      <th>9</th>\n",
       "      <td>350</td>\n",
       "      <td>1449717462610718722</td>\n",
       "      <td>1566285345146142720</td>\n",
       "      <td>MTN</td>\n",
       "      <td>Problem Ticket</td>\n",
       "      <td>False</td>\n",
       "      <td>True</td>\n",
       "      <td>TIER-0</td>\n",
       "      <td>False</td>\n",
       "      <td>@mtnug Hey @mtnug you refused to give me momo ...</td>\n",
       "      <td>False</td>\n",
       "      <td>Twitter for Android</td>\n",
       "      <td>0022-09-04 04:41:00+00:00</td>\n",
       "      <td>80.000000</td>\n",
       "      <td>1566285681168728064</td>\n",
       "      <td>@Bravejonathano2 Hello, sorry about that. Plea...</td>\n",
       "      <td>Khoros CX</td>\n",
       "      <td>9/4/22 4:43 AM</td>\n",
       "    </tr>\n",
       "  </tbody>\n",
       "</table>\n",
       "</div>"
      ],
      "text/plain": [
       "   int64_field_0            client_id            ticket_id ticket_sent_to  \\\n",
       "0             33  1089318683242049536  1570173909982646276            MTN   \n",
       "1             42  1107916375023079426  1570089690052567054            MTN   \n",
       "2             66   748095549706997760  1569938088180289536            MTN   \n",
       "3             91  1403948459938484229  1569598944690454529            MTN   \n",
       "4            170  1476158874507960325  1568451701098553344            MTN   \n",
       "5            252  1174660738390069248  1567566766879948801            MTN   \n",
       "6            303           2985946385  1566822249201541121            MTN   \n",
       "7            313  1528391554741817345  1565776425478721536            MTN   \n",
       "8            341  1487340852812959748  1566357451506696192            MTN   \n",
       "9            350  1449717462610718722  1566285345146142720            MTN   \n",
       "\n",
       "      ticket_type  fit_for_forum  fit_for_for_self_help tier_level  \\\n",
       "0  Problem Ticket          False                  False     TIER-0   \n",
       "1  Problem Ticket          False                  False     TIER-0   \n",
       "2  Problem Ticket          False                   True     TIER-0   \n",
       "3  Problem Ticket          False                  False     TIER-0   \n",
       "4  Problem Ticket          False                  False     TIER-0   \n",
       "5  Problem Ticket          False                  False     TIER-0   \n",
       "6  Problem Ticket          False                  False     TIER-0   \n",
       "7  Problem Ticket           True                  False     TIER-0   \n",
       "8  Problem Ticket          False                  False     TIER-0   \n",
       "9  Problem Ticket          False                   True     TIER-0   \n",
       "\n",
       "   contains_sensitive_data                                        ticket_text  \\\n",
       "0                    False  @mtnug what is wrong with your data? This is n...   \n",
       "1                    False  @mtnug I bought it yesterday but till now I ha...   \n",
       "2                    False  @mtnug How possible is it that my 2.9GB to be ...   \n",
       "3                    False  @mtnug the rate at which my data is moving yes...   \n",
       "4                    False  Why is MTN extra time data too slow on Twitter...   \n",
       "5                    False  @mtnug your coverage is too reliable for your ...   \n",
       "6                    False  I have tried all means to replace my Simcards ...   \n",
       "7                    False  @mtnug my MTN agent line has failed to work, i...   \n",
       "8                    False  @mtnug should change on how it's consumes our ...   \n",
       "9                    False  @mtnug Hey @mtnug you refused to give me momo ...   \n",
       "\n",
       "   has_media        ticket_source          ticket_created_at  \\\n",
       "0      False   Twitter for iPhone  0022-09-14 22:13:00+00:00   \n",
       "1      False  Twitter for Android  0022-09-14 16:38:00+00:00   \n",
       "2      False      Twitter Web App  0022-09-14 06:36:00+00:00   \n",
       "3      False  Twitter for Android  0022-09-13 08:08:00+00:00   \n",
       "4      False  Twitter for Android  0022-09-10 04:10:00+00:00   \n",
       "5      False   Twitter for iPhone  0022-09-07 17:33:00+00:00   \n",
       "6      False   Twitter for iPhone  0022-09-05 16:15:00+00:00   \n",
       "7      False  Twitter for Android  0022-09-02 18:59:00+00:00   \n",
       "8      False  Twitter for Android  0022-09-04 09:28:00+00:00   \n",
       "9      False  Twitter for Android  0022-09-04 04:41:00+00:00   \n",
       "\n",
       "   first_reply_time_secs          response_id  \\\n",
       "0             267.000000  1570175030025416705   \n",
       "1             337.000000  1570091104455872517   \n",
       "2             527.000000  1569940298360393729   \n",
       "3             230.000000  1569599906393751553   \n",
       "4            5457.000000  1568474590917148672   \n",
       "5             879.000001  1567570451701944320   \n",
       "6             636.000000  1566824917512888322   \n",
       "7             693.000000  1565779333632892929   \n",
       "8             847.000001  1566361004514099201   \n",
       "9              80.000000  1566285681168728064   \n",
       "\n",
       "                                       response_text       response_source  \\\n",
       "0  @AkechSonia please DM number and exact challen...             Khoros CX   \n",
       "1  @kDavidTito Hello David, apologies, this has b...             Khoros CX   \n",
       "2  @mraycho_n Hello Racheal, sorry about that. Pl...             Khoros CX   \n",
       "3  @NsimentaIsaac Hi Isaac, we'd love to look int...             Khoros CX   \n",
       "4  @DariusJackony @mtnug Y’ello! Thanks for stopp...  RC Engage Digital EU   \n",
       "5  @Prnz_sbk Hello, aplogies, Kindly DM your numb...             Khoros CX   \n",
       "6  @GadhafiShafik Hello Gadhafi, Kindly  DM your ...             Khoros CX   \n",
       "7  @Johnkamwada256 Hello John, kindly DM your num...             Khoros CX   \n",
       "8  @damas_muhumuza please DM your number, name, b...             Khoros CX   \n",
       "9  @Bravejonathano2 Hello, sorry about that. Plea...             Khoros CX   \n",
       "\n",
       "  response_created_at  \n",
       "0    9/14/22 10:17 PM  \n",
       "1     9/14/22 4:44 PM  \n",
       "2     9/14/22 6:45 AM  \n",
       "3     9/13/22 8:12 AM  \n",
       "4     9/10/22 5:40 AM  \n",
       "5      9/7/22 5:48 PM  \n",
       "6      9/5/22 4:25 PM  \n",
       "7      9/2/22 7:10 PM  \n",
       "8      9/4/22 9:42 AM  \n",
       "9      9/4/22 4:43 AM  "
      ]
     },
     "execution_count": 106,
     "metadata": {},
     "output_type": "execute_result"
    }
   ],
   "source": [
    "# we can now directly query data from the created table in BigQuery\n",
    "query = f\"\"\"\n",
    "SELECT *\n",
    "FROM `{BQ_PROJECT}.{BQ_DATASET}.{BQ_TABLE}`\n",
    "LIMIT 10\n",
    "\"\"\"\n",
    "bq.query(query = query).to_dataframe()\n"
   ]
  },
  {
   "cell_type": "markdown",
   "id": "2f133efb-8232-4b21-814f-23b815dc60f2",
   "metadata": {},
   "source": [
    "---\n",
    "## Reviewing Data with Pandas\n",
    "We can now use additional SQL to review the data in BigQuery, we move data into a Pandas dataframe so that we can review it with python"
   ]
  },
  {
   "cell_type": "code",
   "execution_count": 107,
   "id": "f4ebf6f5-a178-4011-9ab6-fa8329c578c9",
   "metadata": {},
   "outputs": [],
   "source": [
    "query = f\"\"\"\n",
    "SELECT *\n",
    "FROM `{BQ_PROJECT}.{BQ_DATASET}.{BQ_TABLE}`\n",
    "\"\"\"\n",
    "df = bq.query(query = query).to_dataframe()"
   ]
  },
  {
   "cell_type": "code",
   "execution_count": 109,
   "id": "674f716e-8b9d-4c92-9b46-c166b869f6ae",
   "metadata": {
    "tags": []
   },
   "outputs": [
    {
     "data": {
      "text/plain": [
       "Problem Ticket           408\n",
       "Service Request          271\n",
       "Unclassified Ticket      149\n",
       "Incident Ticket          107\n",
       "Change Request Ticket     68\n",
       "Name: ticket_type, dtype: int64"
      ]
     },
     "execution_count": 109,
     "metadata": {},
     "output_type": "execute_result"
    }
   ],
   "source": [
    "df['ticket_type'].value_counts()"
   ]
  },
  {
   "cell_type": "code",
   "execution_count": 110,
   "id": "ba5d17e5-07c3-48fd-b682-aa471f3548f2",
   "metadata": {},
   "outputs": [
    {
     "data": {
      "text/plain": [
       "False    534\n",
       "True     469\n",
       "Name: fit_for_forum, dtype: int64"
      ]
     },
     "execution_count": 110,
     "metadata": {},
     "output_type": "execute_result"
    }
   ],
   "source": [
    "df['fit_for_forum'].value_counts()"
   ]
  },
  {
   "cell_type": "code",
   "execution_count": 113,
   "id": "c060c7de-5cca-4d9a-873f-efe39008ff87",
   "metadata": {},
   "outputs": [
    {
     "data": {
      "text/plain": [
       "False    812\n",
       "True     191\n",
       "Name: fit_for_for_self_help, dtype: int64"
      ]
     },
     "execution_count": 113,
     "metadata": {},
     "output_type": "execute_result"
    }
   ],
   "source": [
    "df['fit_for_for_self_help'].value_counts()"
   ]
  },
  {
   "cell_type": "code",
   "execution_count": 112,
   "id": "93c2ca7a-ba05-45d9-a2fa-86dc8d305608",
   "metadata": {},
   "outputs": [
    {
     "data": {
      "text/plain": [
       "TIER-1    563\n",
       "TIER-0    351\n",
       "TIER-2     73\n",
       "TIER-3     13\n",
       "TIER-4      3\n",
       "Name: tier_level, dtype: int64"
      ]
     },
     "execution_count": 112,
     "metadata": {},
     "output_type": "execute_result"
    }
   ],
   "source": [
    "df['tier_level'].value_counts()"
   ]
  },
  {
   "cell_type": "markdown",
   "id": "35b34894",
   "metadata": {},
   "source": [
    "---\n",
    "## Preparing Data for Machine Learning"
   ]
  },
  {
   "cell_type": "markdown",
   "id": "4c982157",
   "metadata": {},
   "source": [
    "We split the data into three categories, Training data, Testing data and Vadidating data with percentages.\n",
    "We create a copy of the table in BigQuery and add a splits column to it that defines the category of each row.\n",
    "\n",
    "- Training Data: **82.552343%** \n",
    "- Testing Data: **7.976072%**\n",
    "- Validating Data: **9.471585%**"
   ]
  },
  {
   "cell_type": "code",
   "execution_count": 114,
   "id": "a50becbb-60ab-45f9-acd5-9beb5b6755f0",
   "metadata": {},
   "outputs": [
    {
     "data": {
      "text/plain": [
       "<google.cloud.bigquery.table._EmptyRowIterator at 0x7f8b27f5d6d0>"
      ]
     },
     "execution_count": 114,
     "metadata": {},
     "output_type": "execute_result"
    }
   ],
   "source": [
    "query = f\"\"\"\n",
    "CREATE TABLE IF NOT EXISTS `{BQ_PROJECT}.{BQ_DATASET}.{BQ_TABLE}_copy` AS\n",
    "WITH add_id AS(SELECT *, GENERATE_UUID() row_id FROM `{BQ_PROJECT}.{BQ_DATASET}.{BQ_TABLE}`)\n",
    "SELECT *,\n",
    "    CASE \n",
    "        WHEN MOD(ABS(FARM_FINGERPRINT(row_id)),10) < 8 THEN \"TRAIN\" \n",
    "        WHEN MOD(ABS(FARM_FINGERPRINT(row_id)),10) < 9 THEN \"VALIDATE\"\n",
    "        ELSE \"TEST\"\n",
    "    END AS splits\n",
    "FROM add_id\n",
    "\"\"\"\n",
    "job = bq.query(query = query)\n",
    "job.result()"
   ]
  },
  {
   "cell_type": "markdown",
   "id": "372b2c41",
   "metadata": {},
   "source": [
    "We can now review our splitted data"
   ]
  },
  {
   "cell_type": "code",
   "execution_count": 115,
   "id": "4a94adb9-81d7-4710-ac50-e0d93dd5523a",
   "metadata": {},
   "outputs": [
    {
     "data": {
      "text/html": [
       "<div>\n",
       "<style scoped>\n",
       "    .dataframe tbody tr th:only-of-type {\n",
       "        vertical-align: middle;\n",
       "    }\n",
       "\n",
       "    .dataframe tbody tr th {\n",
       "        vertical-align: top;\n",
       "    }\n",
       "\n",
       "    .dataframe thead th {\n",
       "        text-align: right;\n",
       "    }\n",
       "</style>\n",
       "<table border=\"1\" class=\"dataframe\">\n",
       "  <thead>\n",
       "    <tr style=\"text-align: right;\">\n",
       "      <th></th>\n",
       "      <th>splits</th>\n",
       "      <th>Count</th>\n",
       "      <th>Percentage</th>\n",
       "    </tr>\n",
       "  </thead>\n",
       "  <tbody>\n",
       "    <tr>\n",
       "      <th>0</th>\n",
       "      <td>TEST</td>\n",
       "      <td>80</td>\n",
       "      <td>7.976072</td>\n",
       "    </tr>\n",
       "    <tr>\n",
       "      <th>1</th>\n",
       "      <td>VALIDATE</td>\n",
       "      <td>95</td>\n",
       "      <td>9.471585</td>\n",
       "    </tr>\n",
       "    <tr>\n",
       "      <th>2</th>\n",
       "      <td>TRAIN</td>\n",
       "      <td>828</td>\n",
       "      <td>82.552343</td>\n",
       "    </tr>\n",
       "  </tbody>\n",
       "</table>\n",
       "</div>"
      ],
      "text/plain": [
       "     splits  Count  Percentage\n",
       "0      TEST     80    7.976072\n",
       "1  VALIDATE     95    9.471585\n",
       "2     TRAIN    828   82.552343"
      ]
     },
     "execution_count": 115,
     "metadata": {},
     "output_type": "execute_result"
    }
   ],
   "source": [
    "query = f\"\"\"\n",
    "SELECT splits, count(*) as Count, 100*count(*) / (sum(count(*)) OVER()) as Percentage\n",
    "FROM `{BQ_PROJECT}.{BQ_DATASET}.{BQ_TABLE}_copy`\n",
    "GROUP BY splits\n",
    "\"\"\"\n",
    "bq.query(query = query).to_dataframe()"
   ]
  },
  {
   "cell_type": "markdown",
   "id": "3006ed11",
   "metadata": {},
   "source": [
    "Retrieve a subset of the data to a Pandas dataframe:"
   ]
  },
  {
   "cell_type": "code",
   "execution_count": 116,
   "id": "2ea70141-07db-46b0-a31e-0968befcd37b",
   "metadata": {},
   "outputs": [],
   "source": [
    "query = f\"\"\"\n",
    "SELECT * \n",
    "FROM `{BQ_PROJECT}.{BQ_DATASET}.{BQ_TABLE}_copy`\n",
    "LIMIT 5\n",
    "\"\"\"\n",
    "data = bq.query(query = query).to_dataframe()"
   ]
  },
  {
   "cell_type": "code",
   "execution_count": 117,
   "id": "326d2b3d",
   "metadata": {},
   "outputs": [
    {
     "data": {
      "text/html": [
       "<div>\n",
       "<style scoped>\n",
       "    .dataframe tbody tr th:only-of-type {\n",
       "        vertical-align: middle;\n",
       "    }\n",
       "\n",
       "    .dataframe tbody tr th {\n",
       "        vertical-align: top;\n",
       "    }\n",
       "\n",
       "    .dataframe thead th {\n",
       "        text-align: right;\n",
       "    }\n",
       "</style>\n",
       "<table border=\"1\" class=\"dataframe\">\n",
       "  <thead>\n",
       "    <tr style=\"text-align: right;\">\n",
       "      <th></th>\n",
       "      <th>int64_field_0</th>\n",
       "      <th>client_id</th>\n",
       "      <th>ticket_id</th>\n",
       "      <th>ticket_sent_to</th>\n",
       "      <th>ticket_type</th>\n",
       "      <th>fit_for_forum</th>\n",
       "      <th>fit_for_for_self_help</th>\n",
       "      <th>tier_level</th>\n",
       "      <th>contains_sensitive_data</th>\n",
       "      <th>ticket_text</th>\n",
       "      <th>has_media</th>\n",
       "      <th>ticket_source</th>\n",
       "      <th>ticket_created_at</th>\n",
       "      <th>first_reply_time_secs</th>\n",
       "      <th>response_id</th>\n",
       "      <th>response_text</th>\n",
       "      <th>response_source</th>\n",
       "      <th>response_created_at</th>\n",
       "      <th>row_id</th>\n",
       "      <th>splits</th>\n",
       "    </tr>\n",
       "  </thead>\n",
       "  <tbody>\n",
       "    <tr>\n",
       "      <th>0</th>\n",
       "      <td>232</td>\n",
       "      <td>224961061</td>\n",
       "      <td>1567776119495053312</td>\n",
       "      <td>MTN</td>\n",
       "      <td>Problem Ticket</td>\n",
       "      <td>False</td>\n",
       "      <td>False</td>\n",
       "      <td>TIER-1</td>\n",
       "      <td>False</td>\n",
       "      <td>@mtnug what’s happening?, can’t access my MoKa...</td>\n",
       "      <td>False</td>\n",
       "      <td>Twitter for iPhone</td>\n",
       "      <td>0022-09-08 07:25:00+00:00</td>\n",
       "      <td>551.0</td>\n",
       "      <td>1567778431462408192</td>\n",
       "      <td>@alvinagume that is unfortunate. DM your numbe...</td>\n",
       "      <td>Khoros CX</td>\n",
       "      <td>9/8/22 7:34 AM</td>\n",
       "      <td>8f172c25-847e-4f95-9d38-56fbf5715e3b</td>\n",
       "      <td>TEST</td>\n",
       "    </tr>\n",
       "    <tr>\n",
       "      <th>1</th>\n",
       "      <td>434</td>\n",
       "      <td>1386995671031586817</td>\n",
       "      <td>1565358180753817602</td>\n",
       "      <td>MTN</td>\n",
       "      <td>Problem Ticket</td>\n",
       "      <td>False</td>\n",
       "      <td>False</td>\n",
       "      <td>TIER-2</td>\n",
       "      <td>False</td>\n",
       "      <td>@mtnug I can't make a withdrawal 😭</td>\n",
       "      <td>False</td>\n",
       "      <td>Twitter for Android</td>\n",
       "      <td>0022-09-01 15:17:00+00:00</td>\n",
       "      <td>541.0</td>\n",
       "      <td>1565360449377402880</td>\n",
       "      <td>@soon_quiting Hello, sorry about that, please ...</td>\n",
       "      <td>Khoros CX</td>\n",
       "      <td>9/1/22 3:26 PM</td>\n",
       "      <td>d50b1426-aed8-46db-9deb-87300e04e09c</td>\n",
       "      <td>VALIDATE</td>\n",
       "    </tr>\n",
       "    <tr>\n",
       "      <th>2</th>\n",
       "      <td>40</td>\n",
       "      <td>1022961189985419269</td>\n",
       "      <td>1570100143331987458</td>\n",
       "      <td>MTN</td>\n",
       "      <td>Problem Ticket</td>\n",
       "      <td>True</td>\n",
       "      <td>False</td>\n",
       "      <td>TIER-2</td>\n",
       "      <td>False</td>\n",
       "      <td>@mtnug @najjits Your internet ain’t working …....</td>\n",
       "      <td>False</td>\n",
       "      <td>Twitter for iPhone</td>\n",
       "      <td>0022-09-14 17:20:00+00:00</td>\n",
       "      <td>850.0</td>\n",
       "      <td>1570103707932708867</td>\n",
       "      <td>@HermanNamanya Hello Herman, apologies, kindly...</td>\n",
       "      <td>Khoros CX</td>\n",
       "      <td>9/14/22 5:34 PM</td>\n",
       "      <td>238379f4-9f51-4dfd-aa33-85aad03a7f50</td>\n",
       "      <td>TRAIN</td>\n",
       "    </tr>\n",
       "    <tr>\n",
       "      <th>3</th>\n",
       "      <td>110</td>\n",
       "      <td>2383425320</td>\n",
       "      <td>1569347320591835137</td>\n",
       "      <td>MTN</td>\n",
       "      <td>Problem Ticket</td>\n",
       "      <td>True</td>\n",
       "      <td>False</td>\n",
       "      <td>TIER-3</td>\n",
       "      <td>False</td>\n",
       "      <td>@ojok_ayen @CentenaryBank In 2020 my phone was...</td>\n",
       "      <td>False</td>\n",
       "      <td>Twitter for Android</td>\n",
       "      <td>0022-09-12 15:28:00+00:00</td>\n",
       "      <td>695.0</td>\n",
       "      <td>1569350234567843841</td>\n",
       "      <td>@mathiasowilli We are sorry to hear this but c...</td>\n",
       "      <td>Khoros CX</td>\n",
       "      <td>9/12/22 3:40 PM</td>\n",
       "      <td>a3e2ee77-77f9-457e-b75a-cb4a976167ad</td>\n",
       "      <td>VALIDATE</td>\n",
       "    </tr>\n",
       "    <tr>\n",
       "      <th>4</th>\n",
       "      <td>407</td>\n",
       "      <td>282839615</td>\n",
       "      <td>1565720189114748930</td>\n",
       "      <td>MTN</td>\n",
       "      <td>Problem Ticket</td>\n",
       "      <td>False</td>\n",
       "      <td>False</td>\n",
       "      <td>TIER-0</td>\n",
       "      <td>False</td>\n",
       "      <td>@Airtel_Ug , why is my line not connecting wit...</td>\n",
       "      <td>False</td>\n",
       "      <td>Twitter Web App</td>\n",
       "      <td>0022-09-02 15:15:00+00:00</td>\n",
       "      <td>194.0</td>\n",
       "      <td>1565721004202229760</td>\n",
       "      <td>@samgidudu Hello Samuel , kindly DM your numbe...</td>\n",
       "      <td>Khoros CX</td>\n",
       "      <td>9/2/22 3:19 PM</td>\n",
       "      <td>20214f3b-38e5-46f9-bbfa-09940780c06d</td>\n",
       "      <td>TRAIN</td>\n",
       "    </tr>\n",
       "  </tbody>\n",
       "</table>\n",
       "</div>"
      ],
      "text/plain": [
       "   int64_field_0            client_id            ticket_id ticket_sent_to  \\\n",
       "0            232            224961061  1567776119495053312            MTN   \n",
       "1            434  1386995671031586817  1565358180753817602            MTN   \n",
       "2             40  1022961189985419269  1570100143331987458            MTN   \n",
       "3            110           2383425320  1569347320591835137            MTN   \n",
       "4            407            282839615  1565720189114748930            MTN   \n",
       "\n",
       "      ticket_type  fit_for_forum  fit_for_for_self_help tier_level  \\\n",
       "0  Problem Ticket          False                  False     TIER-1   \n",
       "1  Problem Ticket          False                  False     TIER-2   \n",
       "2  Problem Ticket           True                  False     TIER-2   \n",
       "3  Problem Ticket           True                  False     TIER-3   \n",
       "4  Problem Ticket          False                  False     TIER-0   \n",
       "\n",
       "   contains_sensitive_data                                        ticket_text  \\\n",
       "0                    False  @mtnug what’s happening?, can’t access my MoKa...   \n",
       "1                    False                 @mtnug I can't make a withdrawal 😭   \n",
       "2                    False  @mtnug @najjits Your internet ain’t working …....   \n",
       "3                    False  @ojok_ayen @CentenaryBank In 2020 my phone was...   \n",
       "4                    False  @Airtel_Ug , why is my line not connecting wit...   \n",
       "\n",
       "   has_media        ticket_source          ticket_created_at  \\\n",
       "0      False   Twitter for iPhone  0022-09-08 07:25:00+00:00   \n",
       "1      False  Twitter for Android  0022-09-01 15:17:00+00:00   \n",
       "2      False   Twitter for iPhone  0022-09-14 17:20:00+00:00   \n",
       "3      False  Twitter for Android  0022-09-12 15:28:00+00:00   \n",
       "4      False      Twitter Web App  0022-09-02 15:15:00+00:00   \n",
       "\n",
       "   first_reply_time_secs          response_id  \\\n",
       "0                  551.0  1567778431462408192   \n",
       "1                  541.0  1565360449377402880   \n",
       "2                  850.0  1570103707932708867   \n",
       "3                  695.0  1569350234567843841   \n",
       "4                  194.0  1565721004202229760   \n",
       "\n",
       "                                       response_text response_source  \\\n",
       "0  @alvinagume that is unfortunate. DM your numbe...       Khoros CX   \n",
       "1  @soon_quiting Hello, sorry about that, please ...       Khoros CX   \n",
       "2  @HermanNamanya Hello Herman, apologies, kindly...       Khoros CX   \n",
       "3  @mathiasowilli We are sorry to hear this but c...       Khoros CX   \n",
       "4  @samgidudu Hello Samuel , kindly DM your numbe...       Khoros CX   \n",
       "\n",
       "  response_created_at                                row_id    splits  \n",
       "0      9/8/22 7:34 AM  8f172c25-847e-4f95-9d38-56fbf5715e3b      TEST  \n",
       "1      9/1/22 3:26 PM  d50b1426-aed8-46db-9deb-87300e04e09c  VALIDATE  \n",
       "2     9/14/22 5:34 PM  238379f4-9f51-4dfd-aa33-85aad03a7f50     TRAIN  \n",
       "3     9/12/22 3:40 PM  a3e2ee77-77f9-457e-b75a-cb4a976167ad  VALIDATE  \n",
       "4      9/2/22 3:19 PM  20214f3b-38e5-46f9-bbfa-09940780c06d     TRAIN  "
      ]
     },
     "execution_count": 117,
     "metadata": {},
     "output_type": "execute_result"
    }
   ],
   "source": [
    "data.head()"
   ]
  }
 ],
 "metadata": {
  "environment": {
   "kernel": "python3",
   "name": "tf2-gpu.2-3.m95",
   "type": "gcloud",
   "uri": "gcr.io/deeplearning-platform-release/tf2-gpu.2-3:m95"
  },
  "kernelspec": {
   "display_name": "Python 3",
   "language": "python",
   "name": "python3"
  },
  "language_info": {
   "codemirror_mode": {
    "name": "ipython",
    "version": 3
   },
   "file_extension": ".py",
   "mimetype": "text/x-python",
   "name": "python",
   "nbconvert_exporter": "python",
   "pygments_lexer": "ipython3",
   "version": "3.7.12"
  }
 },
 "nbformat": 4,
 "nbformat_minor": 5
}
